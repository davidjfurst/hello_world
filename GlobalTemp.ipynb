{
 "cells": [
  {
   "cell_type": "code",
   "execution_count": 35,
   "metadata": {
    "collapsed": true
   },
   "outputs": [],
   "source": [
    "import pandas as pd\n",
    "import seaborn as sb\n",
    "import datetime as dati\n",
    "import matplotlib.pyplot as plt"
   ]
  },
  {
   "cell_type": "code",
   "execution_count": 21,
   "metadata": {},
   "outputs": [],
   "source": [
    "tempByCity = pd.read_csv('./GlobalLandTemperaturesByMajorCity.csv', parse_dates=['dt'])\n",
    "tempByCity['Year']=tempByCity['dt'].apply(lambda x : x.year)\n",
    "tempByCity['Month']=tempByCity['dt'].apply(lambda x : x.month)\n",
    "tempByCity['Day']=tempByCity['dt'].apply(lambda x : x.day)"
   ]
  },
  {
   "cell_type": "code",
   "execution_count": 22,
   "metadata": {},
   "outputs": [
    {
     "data": {
      "text/plain": [
       "Index([u'dt', u'AverageTemperature', u'AverageTemperatureUncertainty', u'City',\n",
       "       u'Country', u'Latitude', u'Longitude', u'Year', u'Month', u'Day'],\n",
       "      dtype='object')"
      ]
     },
     "execution_count": 22,
     "metadata": {},
     "output_type": "execute_result"
    }
   ],
   "source": [
    "tempByCity.columns"
   ]
  },
  {
   "cell_type": "code",
   "execution_count": 23,
   "metadata": {},
   "outputs": [
    {
     "data": {
      "text/html": [
       "<div>\n",
       "<style>\n",
       "    .dataframe thead tr:only-child th {\n",
       "        text-align: right;\n",
       "    }\n",
       "\n",
       "    .dataframe thead th {\n",
       "        text-align: left;\n",
       "    }\n",
       "\n",
       "    .dataframe tbody tr th {\n",
       "        vertical-align: top;\n",
       "    }\n",
       "</style>\n",
       "<table border=\"1\" class=\"dataframe\">\n",
       "  <thead>\n",
       "    <tr style=\"text-align: right;\">\n",
       "      <th></th>\n",
       "      <th>dt</th>\n",
       "      <th>AverageTemperature</th>\n",
       "      <th>AverageTemperatureUncertainty</th>\n",
       "      <th>City</th>\n",
       "      <th>Country</th>\n",
       "      <th>Latitude</th>\n",
       "      <th>Longitude</th>\n",
       "      <th>Year</th>\n",
       "      <th>Month</th>\n",
       "      <th>Day</th>\n",
       "    </tr>\n",
       "  </thead>\n",
       "  <tbody>\n",
       "    <tr>\n",
       "      <th>0</th>\n",
       "      <td>1849-01-01 00:00:00</td>\n",
       "      <td>26.704</td>\n",
       "      <td>1.435</td>\n",
       "      <td>Abidjan</td>\n",
       "      <td>Côte D'Ivoire</td>\n",
       "      <td>5.63N</td>\n",
       "      <td>3.23W</td>\n",
       "      <td>1849</td>\n",
       "      <td>1</td>\n",
       "      <td>1</td>\n",
       "    </tr>\n",
       "    <tr>\n",
       "      <th>1</th>\n",
       "      <td>1849-02-01 00:00:00</td>\n",
       "      <td>27.434</td>\n",
       "      <td>1.362</td>\n",
       "      <td>Abidjan</td>\n",
       "      <td>Côte D'Ivoire</td>\n",
       "      <td>5.63N</td>\n",
       "      <td>3.23W</td>\n",
       "      <td>1849</td>\n",
       "      <td>2</td>\n",
       "      <td>1</td>\n",
       "    </tr>\n",
       "    <tr>\n",
       "      <th>2</th>\n",
       "      <td>1849-03-01 00:00:00</td>\n",
       "      <td>28.101</td>\n",
       "      <td>1.612</td>\n",
       "      <td>Abidjan</td>\n",
       "      <td>Côte D'Ivoire</td>\n",
       "      <td>5.63N</td>\n",
       "      <td>3.23W</td>\n",
       "      <td>1849</td>\n",
       "      <td>3</td>\n",
       "      <td>1</td>\n",
       "    </tr>\n",
       "    <tr>\n",
       "      <th>3</th>\n",
       "      <td>1849-04-01 00:00:00</td>\n",
       "      <td>26.140</td>\n",
       "      <td>1.387</td>\n",
       "      <td>Abidjan</td>\n",
       "      <td>Côte D'Ivoire</td>\n",
       "      <td>5.63N</td>\n",
       "      <td>3.23W</td>\n",
       "      <td>1849</td>\n",
       "      <td>4</td>\n",
       "      <td>1</td>\n",
       "    </tr>\n",
       "    <tr>\n",
       "      <th>4</th>\n",
       "      <td>1849-05-01 00:00:00</td>\n",
       "      <td>25.427</td>\n",
       "      <td>1.200</td>\n",
       "      <td>Abidjan</td>\n",
       "      <td>Côte D'Ivoire</td>\n",
       "      <td>5.63N</td>\n",
       "      <td>3.23W</td>\n",
       "      <td>1849</td>\n",
       "      <td>5</td>\n",
       "      <td>1</td>\n",
       "    </tr>\n",
       "    <tr>\n",
       "      <th>5</th>\n",
       "      <td>1849-06-01 00:00:00</td>\n",
       "      <td>24.844</td>\n",
       "      <td>1.402</td>\n",
       "      <td>Abidjan</td>\n",
       "      <td>Côte D'Ivoire</td>\n",
       "      <td>5.63N</td>\n",
       "      <td>3.23W</td>\n",
       "      <td>1849</td>\n",
       "      <td>6</td>\n",
       "      <td>1</td>\n",
       "    </tr>\n",
       "    <tr>\n",
       "      <th>6</th>\n",
       "      <td>1849-07-01 00:00:00</td>\n",
       "      <td>24.058</td>\n",
       "      <td>1.254</td>\n",
       "      <td>Abidjan</td>\n",
       "      <td>Côte D'Ivoire</td>\n",
       "      <td>5.63N</td>\n",
       "      <td>3.23W</td>\n",
       "      <td>1849</td>\n",
       "      <td>7</td>\n",
       "      <td>1</td>\n",
       "    </tr>\n",
       "    <tr>\n",
       "      <th>7</th>\n",
       "      <td>1849-08-01 00:00:00</td>\n",
       "      <td>23.576</td>\n",
       "      <td>1.265</td>\n",
       "      <td>Abidjan</td>\n",
       "      <td>Côte D'Ivoire</td>\n",
       "      <td>5.63N</td>\n",
       "      <td>3.23W</td>\n",
       "      <td>1849</td>\n",
       "      <td>8</td>\n",
       "      <td>1</td>\n",
       "    </tr>\n",
       "    <tr>\n",
       "      <th>8</th>\n",
       "      <td>1849-09-01 00:00:00</td>\n",
       "      <td>23.662</td>\n",
       "      <td>1.226</td>\n",
       "      <td>Abidjan</td>\n",
       "      <td>Côte D'Ivoire</td>\n",
       "      <td>5.63N</td>\n",
       "      <td>3.23W</td>\n",
       "      <td>1849</td>\n",
       "      <td>9</td>\n",
       "      <td>1</td>\n",
       "    </tr>\n",
       "    <tr>\n",
       "      <th>9</th>\n",
       "      <td>1849-10-01 00:00:00</td>\n",
       "      <td>25.263</td>\n",
       "      <td>1.175</td>\n",
       "      <td>Abidjan</td>\n",
       "      <td>Côte D'Ivoire</td>\n",
       "      <td>5.63N</td>\n",
       "      <td>3.23W</td>\n",
       "      <td>1849</td>\n",
       "      <td>10</td>\n",
       "      <td>1</td>\n",
       "    </tr>\n",
       "  </tbody>\n",
       "</table>\n",
       "</div>"
      ],
      "text/plain": [
       "                   dt  AverageTemperature  AverageTemperatureUncertainty  \\\n",
       "0 1849-01-01 00:00:00              26.704                          1.435   \n",
       "1 1849-02-01 00:00:00              27.434                          1.362   \n",
       "2 1849-03-01 00:00:00              28.101                          1.612   \n",
       "3 1849-04-01 00:00:00              26.140                          1.387   \n",
       "4 1849-05-01 00:00:00              25.427                          1.200   \n",
       "5 1849-06-01 00:00:00              24.844                          1.402   \n",
       "6 1849-07-01 00:00:00              24.058                          1.254   \n",
       "7 1849-08-01 00:00:00              23.576                          1.265   \n",
       "8 1849-09-01 00:00:00              23.662                          1.226   \n",
       "9 1849-10-01 00:00:00              25.263                          1.175   \n",
       "\n",
       "      City        Country Latitude Longitude  Year  Month  Day  \n",
       "0  Abidjan  Côte D'Ivoire    5.63N     3.23W  1849      1    1  \n",
       "1  Abidjan  Côte D'Ivoire    5.63N     3.23W  1849      2    1  \n",
       "2  Abidjan  Côte D'Ivoire    5.63N     3.23W  1849      3    1  \n",
       "3  Abidjan  Côte D'Ivoire    5.63N     3.23W  1849      4    1  \n",
       "4  Abidjan  Côte D'Ivoire    5.63N     3.23W  1849      5    1  \n",
       "5  Abidjan  Côte D'Ivoire    5.63N     3.23W  1849      6    1  \n",
       "6  Abidjan  Côte D'Ivoire    5.63N     3.23W  1849      7    1  \n",
       "7  Abidjan  Côte D'Ivoire    5.63N     3.23W  1849      8    1  \n",
       "8  Abidjan  Côte D'Ivoire    5.63N     3.23W  1849      9    1  \n",
       "9  Abidjan  Côte D'Ivoire    5.63N     3.23W  1849     10    1  "
      ]
     },
     "execution_count": 23,
     "metadata": {},
     "output_type": "execute_result"
    }
   ],
   "source": [
    "tempByCity.head(10)"
   ]
  },
  {
   "cell_type": "code",
   "execution_count": 5,
   "metadata": {},
   "outputs": [
    {
     "data": {
      "text/plain": [
       "239177"
      ]
     },
     "execution_count": 5,
     "metadata": {},
     "output_type": "execute_result"
    }
   ],
   "source": [
    "len(tempByCity)"
   ]
  },
  {
   "cell_type": "code",
   "execution_count": 6,
   "metadata": {
    "collapsed": true
   },
   "outputs": [],
   "source": [
    "tempSTL = tempByCity[tempByCity.City == 'Saint Louis']"
   ]
  },
  {
   "cell_type": "code",
   "execution_count": 7,
   "metadata": {},
   "outputs": [
    {
     "data": {
      "text/html": [
       "<div>\n",
       "<style>\n",
       "    .dataframe thead tr:only-child th {\n",
       "        text-align: right;\n",
       "    }\n",
       "\n",
       "    .dataframe thead th {\n",
       "        text-align: left;\n",
       "    }\n",
       "\n",
       "    .dataframe tbody tr th {\n",
       "        vertical-align: top;\n",
       "    }\n",
       "</style>\n",
       "<table border=\"1\" class=\"dataframe\">\n",
       "  <thead>\n",
       "    <tr style=\"text-align: right;\">\n",
       "      <th></th>\n",
       "      <th>dt</th>\n",
       "      <th>AverageTemperature</th>\n",
       "      <th>AverageTemperatureUncertainty</th>\n",
       "      <th>City</th>\n",
       "      <th>Country</th>\n",
       "      <th>Latitude</th>\n",
       "      <th>Longitude</th>\n",
       "    </tr>\n",
       "  </thead>\n",
       "  <tbody>\n",
       "  </tbody>\n",
       "</table>\n",
       "</div>"
      ],
      "text/plain": [
       "Empty DataFrame\n",
       "Columns: [dt, AverageTemperature, AverageTemperatureUncertainty, City, Country, Latitude, Longitude]\n",
       "Index: []"
      ]
     },
     "execution_count": 7,
     "metadata": {},
     "output_type": "execute_result"
    }
   ],
   "source": [
    "tempSTL.head(10)"
   ]
  },
  {
   "cell_type": "code",
   "execution_count": 8,
   "metadata": {},
   "outputs": [
    {
     "data": {
      "text/plain": [
       "{'Abidjan',\n",
       " 'Addis Abeba',\n",
       " 'Ahmadabad',\n",
       " 'Aleppo',\n",
       " 'Alexandria',\n",
       " 'Ankara',\n",
       " 'Baghdad',\n",
       " 'Bangalore',\n",
       " 'Bangkok',\n",
       " 'Belo Horizonte',\n",
       " 'Berlin',\n",
       " 'Bogot\\xc3\\xa1',\n",
       " 'Bombay',\n",
       " 'Bras\\xc3\\xadlia',\n",
       " 'Cairo',\n",
       " 'Calcutta',\n",
       " 'Cali',\n",
       " 'Cape Town',\n",
       " 'Casablanca',\n",
       " 'Changchun',\n",
       " 'Chengdu',\n",
       " 'Chicago',\n",
       " 'Chongqing',\n",
       " 'Dakar',\n",
       " 'Dalian',\n",
       " 'Dar Es Salaam',\n",
       " 'Delhi',\n",
       " 'Dhaka',\n",
       " 'Durban',\n",
       " 'Faisalabad',\n",
       " 'Fortaleza',\n",
       " 'Gizeh',\n",
       " 'Guangzhou',\n",
       " 'Harare',\n",
       " 'Harbin',\n",
       " 'Ho Chi Minh City',\n",
       " 'Hyderabad',\n",
       " 'Ibadan',\n",
       " 'Istanbul',\n",
       " 'Izmir',\n",
       " 'Jaipur',\n",
       " 'Jakarta',\n",
       " 'Jiddah',\n",
       " 'Jinan',\n",
       " 'Kabul',\n",
       " 'Kano',\n",
       " 'Kanpur',\n",
       " 'Karachi',\n",
       " 'Kiev',\n",
       " 'Kinshasa',\n",
       " 'Lagos',\n",
       " 'Lahore',\n",
       " 'Lakhnau',\n",
       " 'Lima',\n",
       " 'London',\n",
       " 'Los Angeles',\n",
       " 'Luanda',\n",
       " 'Madras',\n",
       " 'Madrid',\n",
       " 'Manila',\n",
       " 'Mashhad',\n",
       " 'Melbourne',\n",
       " 'Mexico',\n",
       " 'Mogadishu',\n",
       " 'Montreal',\n",
       " 'Moscow',\n",
       " 'Nagoya',\n",
       " 'Nagpur',\n",
       " 'Nairobi',\n",
       " 'Nanjing',\n",
       " 'New Delhi',\n",
       " 'New York',\n",
       " 'Paris',\n",
       " 'Peking',\n",
       " 'Pune',\n",
       " 'Rangoon',\n",
       " 'Rio De Janeiro',\n",
       " 'Riyadh',\n",
       " 'Rome',\n",
       " 'Saint Petersburg',\n",
       " 'Salvador',\n",
       " 'Santiago',\n",
       " 'Santo Domingo',\n",
       " 'Seoul',\n",
       " 'Shanghai',\n",
       " 'Shenyang',\n",
       " 'Singapore',\n",
       " 'Surabaya',\n",
       " 'Surat',\n",
       " 'Sydney',\n",
       " 'S\\xc3\\xa3o Paulo',\n",
       " 'Taipei',\n",
       " 'Taiyuan',\n",
       " 'Tangshan',\n",
       " 'Tianjin',\n",
       " 'Tokyo',\n",
       " 'Toronto',\n",
       " 'Umm Durman',\n",
       " 'Wuhan',\n",
       " 'Xian'}"
      ]
     },
     "execution_count": 8,
     "metadata": {},
     "output_type": "execute_result"
    }
   ],
   "source": [
    "set(tempByCity.City)"
   ]
  },
  {
   "cell_type": "code",
   "execution_count": 26,
   "metadata": {},
   "outputs": [
    {
     "name": "stderr",
     "output_type": "stream",
     "text": [
      "C:\\Users\\david\\Anaconda2\\lib\\site-packages\\ipykernel_launcher.py:2: SettingWithCopyWarning: \n",
      "A value is trying to be set on a copy of a slice from a DataFrame\n",
      "\n",
      "See the caveats in the documentation: http://pandas.pydata.org/pandas-docs/stable/indexing.html#indexing-view-versus-copy\n",
      "  \n"
     ]
    }
   ],
   "source": [
    "tempLondon = tempByCity[tempByCity.City == 'London']\n",
    "tempLondon.dropna(inplace=True)"
   ]
  },
  {
   "cell_type": "code",
   "execution_count": 29,
   "metadata": {
    "collapsed": true
   },
   "outputs": [],
   "source": [
    "tempLondonByYear = tempLondon.groupby(tempLondon.Year).max().reset_index()"
   ]
  },
  {
   "cell_type": "code",
   "execution_count": 30,
   "metadata": {},
   "outputs": [
    {
     "data": {
      "text/html": [
       "<div>\n",
       "<style>\n",
       "    .dataframe thead tr:only-child th {\n",
       "        text-align: right;\n",
       "    }\n",
       "\n",
       "    .dataframe thead th {\n",
       "        text-align: left;\n",
       "    }\n",
       "\n",
       "    .dataframe tbody tr th {\n",
       "        vertical-align: top;\n",
       "    }\n",
       "</style>\n",
       "<table border=\"1\" class=\"dataframe\">\n",
       "  <thead>\n",
       "    <tr style=\"text-align: right;\">\n",
       "      <th></th>\n",
       "      <th>Year</th>\n",
       "      <th>dt</th>\n",
       "      <th>AverageTemperature</th>\n",
       "      <th>AverageTemperatureUncertainty</th>\n",
       "      <th>City</th>\n",
       "      <th>Country</th>\n",
       "      <th>Latitude</th>\n",
       "      <th>Longitude</th>\n",
       "      <th>Month</th>\n",
       "      <th>Day</th>\n",
       "    </tr>\n",
       "  </thead>\n",
       "  <tbody>\n",
       "    <tr>\n",
       "      <th>0</th>\n",
       "      <td>1743</td>\n",
       "      <td>1743-11-01 00:00:00</td>\n",
       "      <td>7.541</td>\n",
       "      <td>1.753</td>\n",
       "      <td>London</td>\n",
       "      <td>United Kingdom</td>\n",
       "      <td>52.24N</td>\n",
       "      <td>0.00W</td>\n",
       "      <td>11</td>\n",
       "      <td>1</td>\n",
       "    </tr>\n",
       "    <tr>\n",
       "      <th>1</th>\n",
       "      <td>1744</td>\n",
       "      <td>1744-12-01 00:00:00</td>\n",
       "      <td>15.964</td>\n",
       "      <td>2.501</td>\n",
       "      <td>London</td>\n",
       "      <td>United Kingdom</td>\n",
       "      <td>52.24N</td>\n",
       "      <td>0.00W</td>\n",
       "      <td>12</td>\n",
       "      <td>1</td>\n",
       "    </tr>\n",
       "    <tr>\n",
       "      <th>2</th>\n",
       "      <td>1745</td>\n",
       "      <td>1745-04-01 00:00:00</td>\n",
       "      <td>7.490</td>\n",
       "      <td>1.843</td>\n",
       "      <td>London</td>\n",
       "      <td>United Kingdom</td>\n",
       "      <td>52.24N</td>\n",
       "      <td>0.00W</td>\n",
       "      <td>4</td>\n",
       "      <td>1</td>\n",
       "    </tr>\n",
       "    <tr>\n",
       "      <th>3</th>\n",
       "      <td>1750</td>\n",
       "      <td>1750-12-01 00:00:00</td>\n",
       "      <td>18.251</td>\n",
       "      <td>2.561</td>\n",
       "      <td>London</td>\n",
       "      <td>United Kingdom</td>\n",
       "      <td>52.24N</td>\n",
       "      <td>0.00W</td>\n",
       "      <td>12</td>\n",
       "      <td>1</td>\n",
       "    </tr>\n",
       "    <tr>\n",
       "      <th>4</th>\n",
       "      <td>1751</td>\n",
       "      <td>1751-09-01 00:00:00</td>\n",
       "      <td>16.571</td>\n",
       "      <td>2.214</td>\n",
       "      <td>London</td>\n",
       "      <td>United Kingdom</td>\n",
       "      <td>52.24N</td>\n",
       "      <td>0.00W</td>\n",
       "      <td>9</td>\n",
       "      <td>1</td>\n",
       "    </tr>\n",
       "    <tr>\n",
       "      <th>5</th>\n",
       "      <td>1752</td>\n",
       "      <td>1752-12-01 00:00:00</td>\n",
       "      <td>9.573</td>\n",
       "      <td>2.519</td>\n",
       "      <td>London</td>\n",
       "      <td>United Kingdom</td>\n",
       "      <td>52.24N</td>\n",
       "      <td>0.00W</td>\n",
       "      <td>12</td>\n",
       "      <td>1</td>\n",
       "    </tr>\n",
       "    <tr>\n",
       "      <th>6</th>\n",
       "      <td>1753</td>\n",
       "      <td>1753-12-01 00:00:00</td>\n",
       "      <td>16.996</td>\n",
       "      <td>7.630</td>\n",
       "      <td>London</td>\n",
       "      <td>United Kingdom</td>\n",
       "      <td>52.24N</td>\n",
       "      <td>0.00W</td>\n",
       "      <td>12</td>\n",
       "      <td>1</td>\n",
       "    </tr>\n",
       "    <tr>\n",
       "      <th>7</th>\n",
       "      <td>1754</td>\n",
       "      <td>1754-12-01 00:00:00</td>\n",
       "      <td>16.553</td>\n",
       "      <td>7.460</td>\n",
       "      <td>London</td>\n",
       "      <td>United Kingdom</td>\n",
       "      <td>52.24N</td>\n",
       "      <td>0.00W</td>\n",
       "      <td>12</td>\n",
       "      <td>1</td>\n",
       "    </tr>\n",
       "    <tr>\n",
       "      <th>8</th>\n",
       "      <td>1755</td>\n",
       "      <td>1755-12-01 00:00:00</td>\n",
       "      <td>17.020</td>\n",
       "      <td>8.251</td>\n",
       "      <td>London</td>\n",
       "      <td>United Kingdom</td>\n",
       "      <td>52.24N</td>\n",
       "      <td>0.00W</td>\n",
       "      <td>12</td>\n",
       "      <td>1</td>\n",
       "    </tr>\n",
       "    <tr>\n",
       "      <th>9</th>\n",
       "      <td>1756</td>\n",
       "      <td>1756-12-01 00:00:00</td>\n",
       "      <td>17.452</td>\n",
       "      <td>9.730</td>\n",
       "      <td>London</td>\n",
       "      <td>United Kingdom</td>\n",
       "      <td>52.24N</td>\n",
       "      <td>0.00W</td>\n",
       "      <td>12</td>\n",
       "      <td>1</td>\n",
       "    </tr>\n",
       "  </tbody>\n",
       "</table>\n",
       "</div>"
      ],
      "text/plain": [
       "   Year                  dt  AverageTemperature  \\\n",
       "0  1743 1743-11-01 00:00:00               7.541   \n",
       "1  1744 1744-12-01 00:00:00              15.964   \n",
       "2  1745 1745-04-01 00:00:00               7.490   \n",
       "3  1750 1750-12-01 00:00:00              18.251   \n",
       "4  1751 1751-09-01 00:00:00              16.571   \n",
       "5  1752 1752-12-01 00:00:00               9.573   \n",
       "6  1753 1753-12-01 00:00:00              16.996   \n",
       "7  1754 1754-12-01 00:00:00              16.553   \n",
       "8  1755 1755-12-01 00:00:00              17.020   \n",
       "9  1756 1756-12-01 00:00:00              17.452   \n",
       "\n",
       "   AverageTemperatureUncertainty    City         Country Latitude Longitude  \\\n",
       "0                          1.753  London  United Kingdom   52.24N     0.00W   \n",
       "1                          2.501  London  United Kingdom   52.24N     0.00W   \n",
       "2                          1.843  London  United Kingdom   52.24N     0.00W   \n",
       "3                          2.561  London  United Kingdom   52.24N     0.00W   \n",
       "4                          2.214  London  United Kingdom   52.24N     0.00W   \n",
       "5                          2.519  London  United Kingdom   52.24N     0.00W   \n",
       "6                          7.630  London  United Kingdom   52.24N     0.00W   \n",
       "7                          7.460  London  United Kingdom   52.24N     0.00W   \n",
       "8                          8.251  London  United Kingdom   52.24N     0.00W   \n",
       "9                          9.730  London  United Kingdom   52.24N     0.00W   \n",
       "\n",
       "   Month  Day  \n",
       "0     11    1  \n",
       "1     12    1  \n",
       "2      4    1  \n",
       "3     12    1  \n",
       "4      9    1  \n",
       "5     12    1  \n",
       "6     12    1  \n",
       "7     12    1  \n",
       "8     12    1  \n",
       "9     12    1  "
      ]
     },
     "execution_count": 30,
     "metadata": {},
     "output_type": "execute_result"
    }
   ],
   "source": [
    "tempLondonByYear.head(10)"
   ]
  },
  {
   "cell_type": "code",
   "execution_count": 32,
   "metadata": {},
   "outputs": [
    {
     "ename": "AttributeError",
     "evalue": "'module' object has no attribute 'plot'",
     "output_type": "error",
     "traceback": [
      "\u001b[1;31m---------------------------------------------------------------------------\u001b[0m",
      "\u001b[1;31mAttributeError\u001b[0m                            Traceback (most recent call last)",
      "\u001b[1;32m<ipython-input-32-aa4678a3ac68>\u001b[0m in \u001b[0;36m<module>\u001b[1;34m()\u001b[0m\n\u001b[1;32m----> 1\u001b[1;33m \u001b[0msb\u001b[0m\u001b[1;33m.\u001b[0m\u001b[0mplot\u001b[0m\u001b[1;33m(\u001b[0m\u001b[0mdata\u001b[0m \u001b[1;33m=\u001b[0m \u001b[0mtempLondonByYear\u001b[0m\u001b[1;33m,\u001b[0m \u001b[0mx\u001b[0m \u001b[1;33m=\u001b[0m \u001b[1;34m'Year'\u001b[0m\u001b[1;33m,\u001b[0m \u001b[0my\u001b[0m \u001b[1;33m=\u001b[0m \u001b[1;34m'AverageTemperature'\u001b[0m\u001b[1;33m)\u001b[0m\u001b[1;33m\u001b[0m\u001b[0m\n\u001b[0m",
      "\u001b[1;31mAttributeError\u001b[0m: 'module' object has no attribute 'plot'"
     ]
    }
   ],
   "source": [
    "sb.plot(data = tempLondonByYear, x = 'Year', y = 'AverageTemperature')"
   ]
  },
  {
   "cell_type": "code",
   "execution_count": 37,
   "metadata": {},
   "outputs": [
    {
     "data": {
      "image/png": "[encoded data removed]",
      "text/plain": [
       "<matplotlib.figure.Figure at 0x1277df98>"
      ]
     },
     "metadata": {},
     "output_type": "display_data"
    }
   ],
   "source": [
    "sb.violinplot(data = tempLondonByYear, x='Month', y='AverageTemperature')\n",
    "plt.show()"
   ]
  },
  {
   "cell_type": "code",
   "execution_count": 38,
   "metadata": {},
   "outputs": [
    {
     "name": "stderr",
     "output_type": "stream",
     "text": [
      "C:\\Users\\david\\Anaconda2\\lib\\site-packages\\bs4\\__init__.py:181: UserWarning: No parser was explicitly specified, so I'm using the best available HTML parser for this system (\"lxml\"). This usually isn't a problem, but if you run this code on another system, or in a different virtual environment, it may use a different parser and behave differently.\n",
      "\n",
      "The code that caused this warning is on line 174 of the file C:\\Users\\david\\Anaconda2\\lib\\runpy.py. To get rid of this warning, change code that looks like this:\n",
      "\n",
      " BeautifulSoup(YOUR_MARKUP})\n",
      "\n",
      "to this:\n",
      "\n",
      " BeautifulSoup(YOUR_MARKUP, \"lxml\")\n",
      "\n",
      "  markup_type=markup_type))\n"
     ]
    },
    {
     "data": {
      "text/html": [
       "<img alt=\" Pictures \" class=\"\" id=\"feature_image\" src=\"http://cdn-www.dailypuppy.com/media/dogs/_w450.jpg\" style=\"width:450px;\"/>"
      ],
      "text/plain": [
       "<IPython.core.display.HTML object>"
      ]
     },
     "execution_count": 38,
     "metadata": {},
     "output_type": "execute_result"
    }
   ],
   "source": [
    "sb.puppyplot()"
   ]
  },
  {
   "cell_type": "code",
   "execution_count": 43,
   "metadata": {},
   "outputs": [
    {
     "data": {
      "image/png": "[encoded data removed]",
      "text/plain": [
       "<matplotlib.figure.Figure at 0x138d6fd0>"
      ]
     },
     "metadata": {},
     "output_type": "display_data"
    }
   ],
   "source": [
    "plt.plot(tempLondonByYear['Year'], tempLondonByYear['AverageTemperature'])"
   ]
  },
  {
   "cell_type": "markdown",
   "metadata": {},
   "source": [
    "### Let's look at London's climate post 1900:"
   ]
  },
  {
   "cell_type": "code",
   "execution_count": 44,
   "metadata": {
    "collapsed": true
   },
   "outputs": [],
   "source": [
    "tempLondonPost1900=tempLondonByYear[tempLondonByYear.Year >=1900]"
   ]
  },
  {
   "cell_type": "code",
   "execution_count": 55,
   "metadata": {},
   "outputs": [
    {
     "name": "stderr",
     "output_type": "stream",
     "text": [
      "C:\\Users\\david\\Anaconda2\\lib\\site-packages\\ipykernel_launcher.py:1: FutureWarning: pd.ewm_mean is deprecated for Series and will be removed in a future version, replace with \n",
      "\tSeries.ewm(halflife=50,ignore_na=False,min_periods=0,adjust=True).mean()\n",
      "  \"\"\"Entry point for launching an IPython kernel.\n",
      "C:\\Users\\david\\Anaconda2\\lib\\site-packages\\ipykernel_launcher.py:1: SettingWithCopyWarning: \n",
      "A value is trying to be set on a copy of a slice from a DataFrame.\n",
      "Try using .loc[row_indexer,col_indexer] = value instead\n",
      "\n",
      "See the caveats in the documentation: http://pandas.pydata.org/pandas-docs/stable/indexing.html#indexing-view-versus-copy\n",
      "  \"\"\"Entry point for launching an IPython kernel.\n"
     ]
    },
    {
     "data": {
      "image/png": "[encoded data removed]",
      "text/plain": [
       "<matplotlib.figure.Figure at 0x1364da90>"
      ]
     },
     "metadata": {},
     "output_type": "display_data"
    }
   ],
   "source": [
    "tempLondonPost1900['MA']=pd.stats.api.ewma(tempLondonPost1900['AverageTemperature'],halflife=50)\n",
    "plt.plot(tempLondonPost1900['Year'], tempLondonPost1900['AverageTemperature'],tempLondonPost1900['Year'], tempLondonPost1900['MA'])\n",
    "plt.show()"
   ]
  },
  {
   "cell_type": "code",
   "execution_count": 53,
   "metadata": {},
   "outputs": [
    {
     "data": {
      "text/plain": [
       "114"
      ]
     },
     "execution_count": 53,
     "metadata": {},
     "output_type": "execute_result"
    }
   ],
   "source": [
    "len(tempLondonPost1900)"
   ]
  },
  {
   "cell_type": "code",
   "execution_count": null,
   "metadata": {
    "collapsed": true
   },
   "outputs": [],
   "source": []
  }
 ],
 "metadata": {
  "kernelspec": {
   "display_name": "Python 2",
   "language": "python",
   "name": "python2"
  },
  "language_info": {
   "codemirror_mode": {
    "name": "ipython",
    "version": 2
   },
   "file_extension": ".py",
   "mimetype": "text/x-python",
   "name": "python",
   "nbconvert_exporter": "python",
   "pygments_lexer": "ipython2",
   "version": "2.7.13"
  }
 },
 "nbformat": 4,
 "nbformat_minor": 2
}
